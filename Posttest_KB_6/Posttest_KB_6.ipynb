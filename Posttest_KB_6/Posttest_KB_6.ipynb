{
 "cells": [
  {
   "cell_type": "markdown",
   "id": "76c831ec-7f95-4c10-9766-35641ce63828",
   "metadata": {},
   "source": [
    "## MUHAMMAD FAJRIN MIRSAD\n",
    "\n",
    "## POSTTEST 6"
   ]
  },
  {
   "cell_type": "markdown",
   "id": "eaba4ddc-d496-4a6e-aef7-7093492d28d2",
   "metadata": {},
   "source": [
    "# Import Library"
   ]
  },
  {
   "cell_type": "code",
   "execution_count": 2,
   "id": "7f6ea5c0-49f8-437c-b7d9-c9d6ae782375",
   "metadata": {},
   "outputs": [],
   "source": [
    "import pandas as pd\n",
    "import tensorflow as tf\n",
    "from tensorflow.keras import Sequential, layers\n",
    "import numpy as np\n",
    "from sklearn.model_selection import train_test_split\n",
    "from sklearn.metrics import accuracy_score"
   ]
  },
  {
   "cell_type": "markdown",
   "id": "33ed0e01-6abc-45fd-98cc-898cee026338",
   "metadata": {},
   "source": [
    "# Import Dataset"
   ]
  },
  {
   "cell_type": "code",
   "execution_count": null,
   "id": "7ad61f20-5d6f-495d-a377-eed47a851798",
   "metadata": {},
   "outputs": [],
   "source": [
    "df = pd.read_csv('Airlines.csv')"
   ]
  },
  {
   "cell_type": "code",
   "execution_count": 4,
   "id": "461fed1d-aa23-4a55-9a05-80426239995e",
   "metadata": {},
   "outputs": [
    {
     "data": {
      "text/html": [
       "<div>\n",
       "<style scoped>\n",
       "    .dataframe tbody tr th:only-of-type {\n",
       "        vertical-align: middle;\n",
       "    }\n",
       "\n",
       "    .dataframe tbody tr th {\n",
       "        vertical-align: top;\n",
       "    }\n",
       "\n",
       "    .dataframe thead th {\n",
       "        text-align: right;\n",
       "    }\n",
       "</style>\n",
       "<table border=\"1\" class=\"dataframe\">\n",
       "  <thead>\n",
       "    <tr style=\"text-align: right;\">\n",
       "      <th></th>\n",
       "      <th>id</th>\n",
       "      <th>Airline</th>\n",
       "      <th>Flight</th>\n",
       "      <th>AirportFrom</th>\n",
       "      <th>AirportTo</th>\n",
       "      <th>DayOfWeek</th>\n",
       "      <th>Time</th>\n",
       "      <th>Length</th>\n",
       "      <th>Delay</th>\n",
       "    </tr>\n",
       "  </thead>\n",
       "  <tbody>\n",
       "    <tr>\n",
       "      <th>0</th>\n",
       "      <td>1</td>\n",
       "      <td>CO</td>\n",
       "      <td>269</td>\n",
       "      <td>SFO</td>\n",
       "      <td>IAH</td>\n",
       "      <td>3</td>\n",
       "      <td>15</td>\n",
       "      <td>205</td>\n",
       "      <td>1</td>\n",
       "    </tr>\n",
       "    <tr>\n",
       "      <th>1</th>\n",
       "      <td>2</td>\n",
       "      <td>US</td>\n",
       "      <td>1558</td>\n",
       "      <td>PHX</td>\n",
       "      <td>CLT</td>\n",
       "      <td>3</td>\n",
       "      <td>15</td>\n",
       "      <td>222</td>\n",
       "      <td>1</td>\n",
       "    </tr>\n",
       "    <tr>\n",
       "      <th>2</th>\n",
       "      <td>3</td>\n",
       "      <td>AA</td>\n",
       "      <td>2400</td>\n",
       "      <td>LAX</td>\n",
       "      <td>DFW</td>\n",
       "      <td>3</td>\n",
       "      <td>20</td>\n",
       "      <td>165</td>\n",
       "      <td>1</td>\n",
       "    </tr>\n",
       "    <tr>\n",
       "      <th>3</th>\n",
       "      <td>4</td>\n",
       "      <td>AA</td>\n",
       "      <td>2466</td>\n",
       "      <td>SFO</td>\n",
       "      <td>DFW</td>\n",
       "      <td>3</td>\n",
       "      <td>20</td>\n",
       "      <td>195</td>\n",
       "      <td>1</td>\n",
       "    </tr>\n",
       "    <tr>\n",
       "      <th>4</th>\n",
       "      <td>5</td>\n",
       "      <td>AS</td>\n",
       "      <td>108</td>\n",
       "      <td>ANC</td>\n",
       "      <td>SEA</td>\n",
       "      <td>3</td>\n",
       "      <td>30</td>\n",
       "      <td>202</td>\n",
       "      <td>0</td>\n",
       "    </tr>\n",
       "    <tr>\n",
       "      <th>...</th>\n",
       "      <td>...</td>\n",
       "      <td>...</td>\n",
       "      <td>...</td>\n",
       "      <td>...</td>\n",
       "      <td>...</td>\n",
       "      <td>...</td>\n",
       "      <td>...</td>\n",
       "      <td>...</td>\n",
       "      <td>...</td>\n",
       "    </tr>\n",
       "    <tr>\n",
       "      <th>539378</th>\n",
       "      <td>539379</td>\n",
       "      <td>CO</td>\n",
       "      <td>178</td>\n",
       "      <td>OGG</td>\n",
       "      <td>SNA</td>\n",
       "      <td>5</td>\n",
       "      <td>1439</td>\n",
       "      <td>326</td>\n",
       "      <td>0</td>\n",
       "    </tr>\n",
       "    <tr>\n",
       "      <th>539379</th>\n",
       "      <td>539380</td>\n",
       "      <td>FL</td>\n",
       "      <td>398</td>\n",
       "      <td>SEA</td>\n",
       "      <td>ATL</td>\n",
       "      <td>5</td>\n",
       "      <td>1439</td>\n",
       "      <td>305</td>\n",
       "      <td>0</td>\n",
       "    </tr>\n",
       "    <tr>\n",
       "      <th>539380</th>\n",
       "      <td>539381</td>\n",
       "      <td>FL</td>\n",
       "      <td>609</td>\n",
       "      <td>SFO</td>\n",
       "      <td>MKE</td>\n",
       "      <td>5</td>\n",
       "      <td>1439</td>\n",
       "      <td>255</td>\n",
       "      <td>0</td>\n",
       "    </tr>\n",
       "    <tr>\n",
       "      <th>539381</th>\n",
       "      <td>539382</td>\n",
       "      <td>UA</td>\n",
       "      <td>78</td>\n",
       "      <td>HNL</td>\n",
       "      <td>SFO</td>\n",
       "      <td>5</td>\n",
       "      <td>1439</td>\n",
       "      <td>313</td>\n",
       "      <td>1</td>\n",
       "    </tr>\n",
       "    <tr>\n",
       "      <th>539382</th>\n",
       "      <td>539383</td>\n",
       "      <td>US</td>\n",
       "      <td>1442</td>\n",
       "      <td>LAX</td>\n",
       "      <td>PHL</td>\n",
       "      <td>5</td>\n",
       "      <td>1439</td>\n",
       "      <td>301</td>\n",
       "      <td>1</td>\n",
       "    </tr>\n",
       "  </tbody>\n",
       "</table>\n",
       "<p>539383 rows × 9 columns</p>\n",
       "</div>"
      ],
      "text/plain": [
       "            id Airline  Flight AirportFrom AirportTo  DayOfWeek  Time  Length  \\\n",
       "0            1      CO     269         SFO       IAH          3    15     205   \n",
       "1            2      US    1558         PHX       CLT          3    15     222   \n",
       "2            3      AA    2400         LAX       DFW          3    20     165   \n",
       "3            4      AA    2466         SFO       DFW          3    20     195   \n",
       "4            5      AS     108         ANC       SEA          3    30     202   \n",
       "...        ...     ...     ...         ...       ...        ...   ...     ...   \n",
       "539378  539379      CO     178         OGG       SNA          5  1439     326   \n",
       "539379  539380      FL     398         SEA       ATL          5  1439     305   \n",
       "539380  539381      FL     609         SFO       MKE          5  1439     255   \n",
       "539381  539382      UA      78         HNL       SFO          5  1439     313   \n",
       "539382  539383      US    1442         LAX       PHL          5  1439     301   \n",
       "\n",
       "        Delay  \n",
       "0           1  \n",
       "1           1  \n",
       "2           1  \n",
       "3           1  \n",
       "4           0  \n",
       "...       ...  \n",
       "539378      0  \n",
       "539379      0  \n",
       "539380      0  \n",
       "539381      1  \n",
       "539382      1  \n",
       "\n",
       "[539383 rows x 9 columns]"
      ]
     },
     "execution_count": 4,
     "metadata": {},
     "output_type": "execute_result"
    }
   ],
   "source": [
    "df"
   ]
  },
  {
   "cell_type": "code",
   "execution_count": 5,
   "id": "f8985fc0-697e-48bb-9dfa-ca68be25eee0",
   "metadata": {},
   "outputs": [
    {
     "data": {
      "text/plain": [
       "id             0\n",
       "Airline        0\n",
       "Flight         0\n",
       "AirportFrom    0\n",
       "AirportTo      0\n",
       "DayOfWeek      0\n",
       "Time           0\n",
       "Length         0\n",
       "Delay          0\n",
       "dtype: int64"
      ]
     },
     "execution_count": 5,
     "metadata": {},
     "output_type": "execute_result"
    }
   ],
   "source": [
    "df.isnull().sum()"
   ]
  },
  {
   "cell_type": "code",
   "execution_count": 6,
   "id": "ef9a1875-5ec5-4712-886d-a0a0055a368e",
   "metadata": {},
   "outputs": [
    {
     "name": "stdout",
     "output_type": "stream",
     "text": [
      "<class 'pandas.core.frame.DataFrame'>\n",
      "RangeIndex: 539383 entries, 0 to 539382\n",
      "Data columns (total 5 columns):\n",
      " #   Column     Non-Null Count   Dtype\n",
      "---  ------     --------------   -----\n",
      " 0   Flight     539383 non-null  int64\n",
      " 1   DayOfWeek  539383 non-null  int64\n",
      " 2   Time       539383 non-null  int64\n",
      " 3   Length     539383 non-null  int64\n",
      " 4   Delay      539383 non-null  int64\n",
      "dtypes: int64(5)\n",
      "memory usage: 20.6 MB\n"
     ]
    }
   ],
   "source": [
    "df.drop(columns='id', inplace=True)\n",
    "df.select_dtypes(['int64' , 'float64']).info()"
   ]
  },
  {
   "cell_type": "code",
   "execution_count": 7,
   "id": "a3171a33-2edd-4f26-8c9b-d3c9018b6cb6",
   "metadata": {},
   "outputs": [
    {
     "name": "stdout",
     "output_type": "stream",
     "text": [
      "<class 'pandas.core.frame.DataFrame'>\n",
      "RangeIndex: 539383 entries, 0 to 539382\n",
      "Data columns (total 3 columns):\n",
      " #   Column       Non-Null Count   Dtype \n",
      "---  ------       --------------   ----- \n",
      " 0   Airline      539383 non-null  object\n",
      " 1   AirportFrom  539383 non-null  object\n",
      " 2   AirportTo    539383 non-null  object\n",
      "dtypes: object(3)\n",
      "memory usage: 12.3+ MB\n"
     ]
    }
   ],
   "source": [
    "df.select_dtypes('object').info()"
   ]
  },
  {
   "cell_type": "markdown",
   "id": "baa997b3-db9e-4fd5-bdc9-18a0cfff233e",
   "metadata": {},
   "source": [
    "# Remove Outliner"
   ]
  },
  {
   "cell_type": "code",
   "execution_count": 8,
   "id": "5e476eb3-4ee7-437c-acfd-12313c84ed96",
   "metadata": {},
   "outputs": [],
   "source": [
    "from scipy import stats\n",
    "\n",
    "df = df[(np.abs(stats.zscore(df.select_dtypes(['int64' , 'float64']))) < 3).all(axis=1)]"
   ]
  },
  {
   "cell_type": "code",
   "execution_count": 10,
   "id": "4a50bcc5-a3e0-4246-9e7e-60a64974a078",
   "metadata": {},
   "outputs": [
    {
     "data": {
      "text/html": [
       "<div>\n",
       "<style scoped>\n",
       "    .dataframe tbody tr th:only-of-type {\n",
       "        vertical-align: middle;\n",
       "    }\n",
       "\n",
       "    .dataframe tbody tr th {\n",
       "        vertical-align: top;\n",
       "    }\n",
       "\n",
       "    .dataframe thead th {\n",
       "        text-align: right;\n",
       "    }\n",
       "</style>\n",
       "<table border=\"1\" class=\"dataframe\">\n",
       "  <thead>\n",
       "    <tr style=\"text-align: right;\">\n",
       "      <th></th>\n",
       "      <th>Airline</th>\n",
       "      <th>Flight</th>\n",
       "      <th>DayOfWeek</th>\n",
       "      <th>Time</th>\n",
       "      <th>Length</th>\n",
       "      <th>Delay</th>\n",
       "    </tr>\n",
       "  </thead>\n",
       "  <tbody>\n",
       "    <tr>\n",
       "      <th>0</th>\n",
       "      <td>CO</td>\n",
       "      <td>269</td>\n",
       "      <td>3</td>\n",
       "      <td>15</td>\n",
       "      <td>205</td>\n",
       "      <td>1</td>\n",
       "    </tr>\n",
       "    <tr>\n",
       "      <th>1</th>\n",
       "      <td>US</td>\n",
       "      <td>1558</td>\n",
       "      <td>3</td>\n",
       "      <td>15</td>\n",
       "      <td>222</td>\n",
       "      <td>1</td>\n",
       "    </tr>\n",
       "    <tr>\n",
       "      <th>2</th>\n",
       "      <td>AA</td>\n",
       "      <td>2400</td>\n",
       "      <td>3</td>\n",
       "      <td>20</td>\n",
       "      <td>165</td>\n",
       "      <td>1</td>\n",
       "    </tr>\n",
       "    <tr>\n",
       "      <th>3</th>\n",
       "      <td>AA</td>\n",
       "      <td>2466</td>\n",
       "      <td>3</td>\n",
       "      <td>20</td>\n",
       "      <td>195</td>\n",
       "      <td>1</td>\n",
       "    </tr>\n",
       "    <tr>\n",
       "      <th>4</th>\n",
       "      <td>AS</td>\n",
       "      <td>108</td>\n",
       "      <td>3</td>\n",
       "      <td>30</td>\n",
       "      <td>202</td>\n",
       "      <td>0</td>\n",
       "    </tr>\n",
       "    <tr>\n",
       "      <th>...</th>\n",
       "      <td>...</td>\n",
       "      <td>...</td>\n",
       "      <td>...</td>\n",
       "      <td>...</td>\n",
       "      <td>...</td>\n",
       "      <td>...</td>\n",
       "    </tr>\n",
       "    <tr>\n",
       "      <th>539378</th>\n",
       "      <td>CO</td>\n",
       "      <td>178</td>\n",
       "      <td>5</td>\n",
       "      <td>1439</td>\n",
       "      <td>326</td>\n",
       "      <td>0</td>\n",
       "    </tr>\n",
       "    <tr>\n",
       "      <th>539379</th>\n",
       "      <td>FL</td>\n",
       "      <td>398</td>\n",
       "      <td>5</td>\n",
       "      <td>1439</td>\n",
       "      <td>305</td>\n",
       "      <td>0</td>\n",
       "    </tr>\n",
       "    <tr>\n",
       "      <th>539380</th>\n",
       "      <td>FL</td>\n",
       "      <td>609</td>\n",
       "      <td>5</td>\n",
       "      <td>1439</td>\n",
       "      <td>255</td>\n",
       "      <td>0</td>\n",
       "    </tr>\n",
       "    <tr>\n",
       "      <th>539381</th>\n",
       "      <td>UA</td>\n",
       "      <td>78</td>\n",
       "      <td>5</td>\n",
       "      <td>1439</td>\n",
       "      <td>313</td>\n",
       "      <td>1</td>\n",
       "    </tr>\n",
       "    <tr>\n",
       "      <th>539382</th>\n",
       "      <td>US</td>\n",
       "      <td>1442</td>\n",
       "      <td>5</td>\n",
       "      <td>1439</td>\n",
       "      <td>301</td>\n",
       "      <td>1</td>\n",
       "    </tr>\n",
       "  </tbody>\n",
       "</table>\n",
       "<p>529473 rows × 6 columns</p>\n",
       "</div>"
      ],
      "text/plain": [
       "       Airline  Flight  DayOfWeek  Time  Length  Delay\n",
       "0           CO     269          3    15     205      1\n",
       "1           US    1558          3    15     222      1\n",
       "2           AA    2400          3    20     165      1\n",
       "3           AA    2466          3    20     195      1\n",
       "4           AS     108          3    30     202      0\n",
       "...        ...     ...        ...   ...     ...    ...\n",
       "539378      CO     178          5  1439     326      0\n",
       "539379      FL     398          5  1439     305      0\n",
       "539380      FL     609          5  1439     255      0\n",
       "539381      UA      78          5  1439     313      1\n",
       "539382      US    1442          5  1439     301      1\n",
       "\n",
       "[529473 rows x 6 columns]"
      ]
     },
     "execution_count": 10,
     "metadata": {},
     "output_type": "execute_result"
    }
   ],
   "source": [
    "df2 = df.drop(['AirportFrom', 'AirportTo'], axis = 1)\n",
    "df2"
   ]
  },
  {
   "cell_type": "markdown",
   "id": "39b42d9b-ceb2-4b6f-89e5-c900808cc9dd",
   "metadata": {},
   "source": [
    "## DNN"
   ]
  },
  {
   "cell_type": "markdown",
   "id": "9129e451-4b28-4cd8-9e2f-96f959316a5b",
   "metadata": {},
   "source": [
    "# Split Dataset"
   ]
  },
  {
   "cell_type": "code",
   "execution_count": 11,
   "id": "a5d17b58-a74f-4f15-a6bc-b07cf499e897",
   "metadata": {},
   "outputs": [],
   "source": [
    "X = df[['Flight', 'DayOfWeek', 'Time', 'Length', 'Delay']]\n",
    "y = df['Airline']"
   ]
  },
  {
   "cell_type": "code",
   "execution_count": 12,
   "id": "e3fe0519-7bf6-4f43-b8c0-dd76f6e970cf",
   "metadata": {},
   "outputs": [],
   "source": [
    "X_train, X_test, y_train , y_test = train_test_split(X, y, test_size = 0.2, random_state = 42)"
   ]
  },
  {
   "cell_type": "markdown",
   "id": "df65ce1e-8666-47ef-83b6-430683c10231",
   "metadata": {},
   "source": [
    "# Scaling"
   ]
  },
  {
   "cell_type": "code",
   "execution_count": 14,
   "id": "e1f9dade-afdf-4e9c-90bb-9619db6cfa1e",
   "metadata": {},
   "outputs": [],
   "source": [
    "from sklearn.preprocessing import MinMaxScaler\n",
    "from sklearn.preprocessing import LabelEncoder"
   ]
  },
  {
   "cell_type": "code",
   "execution_count": 15,
   "id": "269f494a-26ff-4b8d-818e-15a87024e8de",
   "metadata": {},
   "outputs": [],
   "source": [
    "mm = MinMaxScaler()\n",
    "X_train = mm.fit_transform(X_train)\n",
    "X_test = mm.transform(X_test)"
   ]
  },
  {
   "cell_type": "code",
   "execution_count": 16,
   "id": "c197a79e-d103-4cec-be2c-a1ecf5f42870",
   "metadata": {},
   "outputs": [],
   "source": [
    "le = LabelEncoder()\n",
    "y_train = le.fit_transform(y_train)\n",
    "y_test = le.fit_transform(y_test)\n"
   ]
  },
  {
   "cell_type": "markdown",
   "id": "5a102cfd-e8b8-42a0-b181-8f24837ac4a9",
   "metadata": {},
   "source": [
    "# Compile Model"
   ]
  },
  {
   "cell_type": "code",
   "execution_count": 20,
   "id": "18392123-0f63-4b53-9eef-d6d4f6f27daf",
   "metadata": {},
   "outputs": [],
   "source": [
    "model = Sequential([\n",
    "    layers.Dense(16, activation='sigmoid', input_shape=[5]), #Input Layer\n",
    "    layers.Dense(32, activation='relu'),\n",
    "    layers.Dense(1, activation='sigmoid') # Output Layer\n",
    "])\n",
    "\n",
    "model.compile(optimizer='Adam', \n",
    "              loss='binary_crossentropy',\n",
    "              metrics=['accuracy'])"
   ]
  },
  {
   "cell_type": "markdown",
   "id": "81ea77b9-bd0e-4356-8109-d46a157b8c52",
   "metadata": {},
   "source": [
    "# Fit Model"
   ]
  },
  {
   "cell_type": "code",
   "execution_count": 23,
   "id": "723d9a0b-cb9d-4919-b0bf-add53717ccfb",
   "metadata": {},
   "outputs": [
    {
     "name": "stdout",
     "output_type": "stream",
     "text": [
      "Epoch 1/20\n",
      "10590/10590 [==============================] - 54s 5ms/step - loss: -1170942.7500 - accuracy: 0.0831 - val_loss: -1736493.0000 - val_accuracy: 0.0833\n",
      "Epoch 2/20\n",
      "10590/10590 [==============================] - 53s 5ms/step - loss: -2451849.7500 - accuracy: 0.0831 - val_loss: -3245782.2500 - val_accuracy: 0.0833\n",
      "Epoch 3/20\n",
      "10590/10590 [==============================] - 54s 5ms/step - loss: -4186691.7500 - accuracy: 0.0831 - val_loss: -5207778.0000 - val_accuracy: 0.0833\n",
      "Epoch 4/20\n",
      "10590/10590 [==============================] - 54s 5ms/step - loss: -6372079.0000 - accuracy: 0.0831 - val_loss: -7620848.5000 - val_accuracy: 0.0833\n",
      "Epoch 5/20\n",
      "10590/10590 [==============================] - 55s 5ms/step - loss: -9007115.0000 - accuracy: 0.0831 - val_loss: -10482113.0000 - val_accuracy: 0.0833\n",
      "Epoch 6/20\n",
      "10590/10590 [==============================] - 54s 5ms/step - loss: -12086699.0000 - accuracy: 0.0831 - val_loss: -13788780.0000 - val_accuracy: 0.0833\n",
      "Epoch 7/20\n",
      "10590/10590 [==============================] - 54s 5ms/step - loss: -15618467.0000 - accuracy: 0.0831 - val_loss: -17545864.0000 - val_accuracy: 0.0833\n",
      "Epoch 8/20\n",
      "10590/10590 [==============================] - 54s 5ms/step - loss: -19594088.0000 - accuracy: 0.0831 - val_loss: -21745846.0000 - val_accuracy: 0.0833\n",
      "Epoch 9/20\n",
      "10590/10590 [==============================] - 54s 5ms/step - loss: -24015584.0000 - accuracy: 0.0831 - val_loss: -26393422.0000 - val_accuracy: 0.0833\n",
      "Epoch 10/20\n",
      "10590/10590 [==============================] - 54s 5ms/step - loss: -28885360.0000 - accuracy: 0.0831 - val_loss: -31489208.0000 - val_accuracy: 0.0833\n",
      "Epoch 11/20\n",
      "10590/10590 [==============================] - 54s 5ms/step - loss: -34194932.0000 - accuracy: 0.0831 - val_loss: -37028092.0000 - val_accuracy: 0.0833\n",
      "Epoch 12/20\n",
      "10590/10590 [==============================] - 54s 5ms/step - loss: -39951472.0000 - accuracy: 0.0831 - val_loss: -43011240.0000 - val_accuracy: 0.0833\n",
      "Epoch 13/20\n",
      "10590/10590 [==============================] - 54s 5ms/step - loss: -46158796.0000 - accuracy: 0.0831 - val_loss: -49442188.0000 - val_accuracy: 0.0833\n",
      "Epoch 14/20\n",
      "10590/10590 [==============================] - 54s 5ms/step - loss: -52802312.0000 - accuracy: 0.0831 - val_loss: -56312708.0000 - val_accuracy: 0.0833\n",
      "Epoch 15/20\n",
      "10590/10590 [==============================] - 54s 5ms/step - loss: -59888808.0000 - accuracy: 0.0831 - val_loss: -63628652.0000 - val_accuracy: 0.0833\n",
      "Epoch 16/20\n",
      "10590/10590 [==============================] - 54s 5ms/step - loss: -67421888.0000 - accuracy: 0.0831 - val_loss: -71387632.0000 - val_accuracy: 0.0833\n",
      "Epoch 17/20\n",
      "10590/10590 [==============================] - 55s 5ms/step - loss: -75397496.0000 - accuracy: 0.0831 - val_loss: -79595264.0000 - val_accuracy: 0.0833\n",
      "Epoch 18/20\n",
      "10590/10590 [==============================] - 58s 5ms/step - loss: -83821648.0000 - accuracy: 0.0831 - val_loss: -88243512.0000 - val_accuracy: 0.0833\n",
      "Epoch 19/20\n",
      "10590/10590 [==============================] - 58s 5ms/step - loss: -92688624.0000 - accuracy: 0.0831 - val_loss: -97339496.0000 - val_accuracy: 0.0833\n",
      "Epoch 20/20\n",
      "10590/10590 [==============================] - 58s 5ms/step - loss: -101993696.0000 - accuracy: 0.0831 - val_loss: -106873688.0000 - val_accuracy: 0.0833\n"
     ]
    },
    {
     "data": {
      "text/plain": [
       "<keras.src.callbacks.History at 0x1e9ea861cf0>"
      ]
     },
     "execution_count": 23,
     "metadata": {},
     "output_type": "execute_result"
    }
   ],
   "source": [
    "model.fit(X_train, y_train, epochs = 20,validation_split=0.2)\n"
   ]
  },
  {
   "cell_type": "markdown",
   "id": "73b69462-7306-4a77-9efd-163127eae44c",
   "metadata": {},
   "source": [
    "# Accuracy"
   ]
  },
  {
   "cell_type": "code",
   "execution_count": 24,
   "id": "bdf56100-328a-400d-a1c1-a6040daf9d06",
   "metadata": {},
   "outputs": [
    {
     "name": "stdout",
     "output_type": "stream",
     "text": [
      "3310/3310 [==============================] - 12s 4ms/step - loss: -106948744.0000 - accuracy: 0.0833\n"
     ]
    },
    {
     "data": {
      "text/plain": [
       "[-106948744.0, 0.08325228095054626]"
      ]
     },
     "execution_count": 24,
     "metadata": {},
     "output_type": "execute_result"
    }
   ],
   "source": [
    "model.evaluate(X_test, y_test)"
   ]
  },
  {
   "cell_type": "code",
   "execution_count": 28,
   "id": "82e53d81-a921-4bf0-aa51-2488cbcd5200",
   "metadata": {},
   "outputs": [],
   "source": [
    "import matplotlib.pyplot as plt"
   ]
  },
  {
   "cell_type": "code",
   "execution_count": 38,
   "id": "69aadc26-f1a6-4743-96fc-9d29c5a82aec",
   "metadata": {},
   "outputs": [],
   "source": [
    "import seaborn as sns\n",
    "from keras import Sequential\n",
    "from keras.layers import Dense"
   ]
  },
  {
   "cell_type": "code",
   "execution_count": null,
   "id": "3e33e6a4-e2be-458a-b3ab-c3c06b1d9039",
   "metadata": {},
   "outputs": [],
   "source": [
    "# Grafik"
   ]
  },
  {
   "cell_type": "code",
   "execution_count": 55,
   "id": "b89084d2-a095-4f6f-b340-b44688251d6f",
   "metadata": {},
   "outputs": [
    {
     "data": {
      "image/png": "[encoded data removed]",
      "text/plain": [
       "<Figure size 1000x600 with 1 Axes>"
      ]
     },
     "metadata": {},
     "output_type": "display_data"
    },
    {
     "data": {
      "image/png": "[encoded data removed]",
      "text/plain": [
       "<Figure size 1000x600 with 1 Axes>"
      ]
     },
     "metadata": {},
     "output_type": "display_data"
    }
   ],
   "source": [
    "plt.figure(figsize=(10, 6))\n",
    "plt.plot(['loss'])\n",
    "plt.plot(['val_loss'])\n",
    "plt.title('Loss Model')\n",
    "plt.ylabel('Loss')\n",
    "plt.xlabel('Epoch')\n",
    "plt.legend(['train', 'val'], loc='upper left')\n",
    "\n",
    "plt.figure(figsize=(10, 6))\n",
    "plt.plot(['accuracy'])\n",
    "plt.plot(['val_accuracy'])\n",
    "plt.title('Accuracy model')\n",
    "plt.ylabel('Accuracy')\n",
    "plt.xlabel('Epoch')\n",
    "plt.legend(['train', 'val'], loc='upper left')\n",
    "\n",
    "plt.show()"
   ]
  }
 ],
 "metadata": {
  "kernelspec": {
   "display_name": "Python 3 (ipykernel)",
   "language": "python",
   "name": "python3"
  },
  "language_info": {
   "codemirror_mode": {
    "name": "ipython",
    "version": 3
   },
   "file_extension": ".py",
   "mimetype": "text/x-python",
   "name": "python",
   "nbconvert_exporter": "python",
   "pygments_lexer": "ipython3",
   "version": "3.10.7"
  }
 },
 "nbformat": 4,
 "nbformat_minor": 5
}
