{
 "cells": [
  {
   "cell_type": "markdown",
   "id": "b12570c6-be20-400a-aeae-1d488fd779ae",
   "metadata": {},
   "source": [
    "## MUHAMMAD FAJRIN MIRSAD\n",
    "\n",
    "## POSTTEST 5"
   ]
  },
  {
   "cell_type": "markdown",
   "id": "c7341b10-6a98-42da-a2e8-c13197ab81ae",
   "metadata": {},
   "source": [
    "## Import Library"
   ]
  },
  {
   "cell_type": "code",
   "execution_count": null,
   "id": "6ffc022a-de9c-43d1-90cd-101f16ee7c1d",
   "metadata": {},
   "outputs": [],
   "source": [
    "import seaborn as sns\n",
    "import pandas as pd\n",
    "import matplotlib.pyplot as plt\n",
    "import numpy as np"
   ]
  },
  {
   "cell_type": "markdown",
   "id": "563a0c02-2682-4c92-aee8-07aa3ea8f555",
   "metadata": {},
   "source": [
    "## Analisis Data"
   ]
  },
  {
   "cell_type": "code",
   "execution_count": null,
   "id": "96c7efad-cae4-461f-a84f-0ab4834516e7",
   "metadata": {},
   "outputs": [],
   "source": [
    "data = pd.read_csv('Airlines.csv')\n",
    "data"
   ]
  },
  {
   "cell_type": "code",
   "execution_count": null,
   "id": "5957656a-f52e-423d-928c-24465d364aad",
   "metadata": {},
   "outputs": [],
   "source": [
    "data.info()"
   ]
  },
  {
   "cell_type": "code",
   "execution_count": null,
   "id": "7f9db1d4-391e-44c8-8042-c3f1e4ebc06f",
   "metadata": {},
   "outputs": [],
   "source": [
    "data.duplicated().sum()"
   ]
  },
  {
   "cell_type": "code",
   "execution_count": null,
   "id": "e14c0e97-1744-4e2b-b175-d46db2495c71",
   "metadata": {},
   "outputs": [],
   "source": [
    "data.drop('id', axis=1, inplace=True)"
   ]
  },
  {
   "cell_type": "code",
   "execution_count": null,
   "id": "fb132625-758d-4b3c-a6eb-a4c3900e2db8",
   "metadata": {},
   "outputs": [],
   "source": [
    "data.isna().sum()"
   ]
  },
  {
   "cell_type": "markdown",
   "id": "a99c83aa-306a-4f95-9e11-4e1c59b29808",
   "metadata": {},
   "source": [
    "## A. Supervised Learning"
   ]
  },
  {
   "cell_type": "code",
   "execution_count": null,
   "id": "2f0570b5-df8c-47c1-aace-021897fbb77b",
   "metadata": {},
   "outputs": [],
   "source": [
    "# NORMALISASI DATA\n",
    "from sklearn.preprocessing import MinMaxScaler \n",
    "\n",
    "# STANDARISASI DATA\n",
    "from sklearn.preprocessing import StandardScaler\n",
    "import numpy as np \n",
    "\n",
    "mms = MinMaxScaler()\n",
    "ss = StandardScaler()\n",
    "\n",
    "normalisasiData = mms.fit_transform(data[['Delay']])\n",
    "print(\" Nilai scaling : \", (normalisasiData))\n",
    "standarisasiData = ss.fit_transform(data[['Time', 'Length']])\n",
    "print(\" Nilai deviasi : \", np.std(standarisasiData))"
   ]
  },
  {
   "cell_type": "code",
   "execution_count": null,
   "id": "1eb301f3-e623-4910-b4c5-38cd8fa1754d",
   "metadata": {},
   "outputs": [],
   "source": [
    "from sklearn.model_selection import train_test_split\n",
    "\n",
    "X = data[[\"Time\", \"Length\"]]\n",
    "Y = data[\"Delay\"]\n",
    "\n",
    "X_train, X_test, y_train, y_test = train_test_split(X, Y, test_size=0.2, random_state=0)"
   ]
  },
  {
   "cell_type": "code",
   "execution_count": null,
   "id": "6fa2e8b1-e951-4041-991c-9c34435b39bb",
   "metadata": {},
   "outputs": [],
   "source": [
    "print(\" X_train :\", X_train.shape)\n",
    "print(\" X_test :\", X_test.shape)\n",
    "print(\" Y_train :\", y_train.shape)\n",
    "print(\" Y_test :\", y_test.shape)"
   ]
  },
  {
   "cell_type": "code",
   "execution_count": null,
   "id": "16559d4b-8546-439e-a6f9-e63af6b9d487",
   "metadata": {},
   "outputs": [],
   "source": [
    "from sklearn.svm import SVC"
   ]
  },
  {
   "cell_type": "code",
   "execution_count": null,
   "id": "e88af756-2021-4316-90f0-a229f8a89d94",
   "metadata": {},
   "outputs": [],
   "source": [
    "svm = SVC(kernel = 'poly')\n",
    "svm.fit(X_train, y_train)"
   ]
  },
  {
   "cell_type": "code",
   "execution_count": null,
   "id": "2c48bafb-1715-4483-9583-8dc8f74cf32f",
   "metadata": {},
   "outputs": [],
   "source": [
    "y_pred = svm.predict(X_test)\n",
    "sv = svm.support_vectors_"
   ]
  },
  {
   "cell_type": "code",
   "execution_count": null,
   "id": "152ab723-3f1b-4dac-a9e1-7f42feab6f5d",
   "metadata": {},
   "outputs": [],
   "source": [
    "from sklearn.metrics import confusion_matrix\n",
    "\n",
    "confussion = confusion_matrix(y_test, y_pred)\n",
    "\n",
    "plt.figure(figsize=(8, 6))\n",
    "sns.heatmap(confussion, annot=True, cmap=\"Green\")\n",
    "\n",
    "plt.xlabel('Prediksi')\n",
    "plt.ylabel('Aktual')\n",
    "plt.title('Confusion Matrix')\n",
    "plt.show()"
   ]
  },
  {
   "cell_type": "code",
   "execution_count": null,
   "id": "45cc8851-e668-45df-b4d7-d4bc9634edaa",
   "metadata": {},
   "outputs": [],
   "source": [
    "from sklearn.metrics import classification_report\n",
    "print(classification_report(y_test, y_pred))"
   ]
  },
  {
   "cell_type": "markdown",
   "id": "63062790-d1df-4ab3-9d8b-4b6e84769cbc",
   "metadata": {},
   "source": [
    "## Hasil Plot"
   ]
  },
  {
   "cell_type": "code",
   "execution_count": null,
   "id": "d1953428-482c-42e3-95e1-3cc0ca225812",
   "metadata": {},
   "outputs": [],
   "source": [
    "from sklearn.inspection import DecisionBoundaryDisplay\n",
    "\n",
    "plt.figure(figsize=(20, 18))\n",
    "sns.scatterplot(x='Time', y='Length', hue='Delay', data=data)\n",
    "\n",
    "ax = plt.gca()\n",
    "\n",
    "DecisionBoundaryDisplay.from_estimator(\n",
    "    estimator=svm,\n",
    "    X=X,\n",
    "    plot_method=\"contourf\",\n",
    "    # colors=\"k\", # untuk warna abu\n",
    "    levels=[-1, 0, 1],\n",
    "    alpha=0.5,\n",
    "    linestyles=[\"--\", \"-\", \"--\"],\n",
    "    ax=ax,\n",
    ")\n",
    "\n",
    "ax.scatter(\n",
    "    svm.support_vectors_[:, 0],\n",
    "    svm.support_vectors_[:, 1],\n",
    "    s=100,\n",
    "    linewidth=1,\n",
    "    facecolors=\"none\",\n",
    "    edgecolors=\"k\",\n",
    ")\n",
    "\n",
    "plt.xlabel('Timee')\n",
    "plt.ylabel('Length')\n",
    "plt.show()"
   ]
  },
  {
   "cell_type": "markdown",
   "id": "646cfcf9-3691-49ea-853d-cdb87783811d",
   "metadata": {},
   "source": [
    "## B. Unsupervised Learning"
   ]
  },
  {
   "cell_type": "code",
   "execution_count": null,
   "id": "b2dc464b-561d-4982-967c-4b48a5875d03",
   "metadata": {},
   "outputs": [],
   "source": [
    "from sklearn.cluster import KMeans\n",
    "\n",
    "wcss = [] \n",
    "\n",
    "for k in range(1, 7):\n",
    "    model = KMeans(n_clusters=k, n_init=10, random_state=0)\n",
    "    model.fit(X)\n",
    "    wcss.append(model.inertia_)\n",
    "\n",
    "plt.figure(figsize=(10, 6))\n",
    "plt.plot(range(1, 7), wcss, marker='o', linestyle='-', color='b')\n",
    "plt.title('Metode Elbow Untuk Mencari Nilai Optimal')\n",
    "plt.xlabel('Banyak Klaster')\n",
    "plt.ylabel('WCSS')\n",
    "plt.grid(True)\n",
    "plt.show()"
   ]
  },
  {
   "cell_type": "code",
   "execution_count": null,
   "id": "4186a559-9724-4815-9fe0-a280ed07b229",
   "metadata": {},
   "outputs": [],
   "source": [
    "from sklearn.cluster import KMeans\n",
    "\n",
    "kmeans = KMeans(n_clusters = 2, n_init = 'auto')"
   ]
  },
  {
   "cell_type": "code",
   "execution_count": null,
   "id": "a9bae9c5-a405-4160-aeb5-baf732f1a217",
   "metadata": {},
   "outputs": [],
   "source": [
    "kmeans.fit(X)"
   ]
  },
  {
   "cell_type": "code",
   "execution_count": null,
   "id": "fa1e6f86-4e99-4eef-97af-d20ee75cfef0",
   "metadata": {},
   "outputs": [],
   "source": [
    "plt.figure(figsize = (20, 18 ))\n",
    "\n",
    "plt.scatter(centroid[:, 0], centroid[:, 1], \n",
    "            alpha = 0.5, c = 'purple', s = 150, label = 'centroid')\n",
    "\n",
    "sns.scatterplot(data = data, x = 'Time', y = 'Length',\n",
    "                hue = 'cluster')\n",
    "plt.legend(loc = 'upper right')\n",
    "plt.show()"
   ]
  },
  {
   "cell_type": "code",
   "execution_count": null,
   "id": "b225a2a4-6d50-480b-834c-0112078abbe3",
   "metadata": {},
   "outputs": [],
   "source": []
  }
 ],
 "metadata": {
  "kernelspec": {
   "display_name": "Python 3 (ipykernel)",
   "language": "python",
   "name": "python3"
  },
  "language_info": {
   "codemirror_mode": {
    "name": "ipython",
    "version": 3
   },
   "file_extension": ".py",
   "mimetype": "text/x-python",
   "name": "python",
   "nbconvert_exporter": "python",
   "pygments_lexer": "ipython3",
   "version": "3.10.7"
  }
 },
 "nbformat": 4,
 "nbformat_minor": 5
}
