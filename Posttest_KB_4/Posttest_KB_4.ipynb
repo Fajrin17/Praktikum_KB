{
 "cells": [
  {
   "cell_type": "markdown",
   "id": "1fa06bdf-9dbf-415b-b5eb-a6c900007f39",
   "metadata": {},
   "source": [
    "# MUHAMMAD FAJRIN MIRSAD\n",
    "\n",
    "### POSTTEST 4"
   ]
  },
  {
   "cell_type": "markdown",
   "id": "1e7981b6-173d-4418-9cb7-b1f35ffab9ca",
   "metadata": {},
   "source": [
    "#### Import Library"
   ]
  },
  {
   "cell_type": "code",
   "execution_count": 1,
   "id": "6dba7c6f-7a2b-4d1c-9419-83abf67325b4",
   "metadata": {},
   "outputs": [],
   "source": [
    "import pandas as pd\n",
    "import numpy as np\n",
    "from sklearn.model_selection import train_test_split\n",
    "from sklearn.preprocessing import MinMaxScaler, StandardScaler"
   ]
  },
  {
   "cell_type": "markdown",
   "id": "747b2c34-ba7d-4817-9d32-1f296edfbe7e",
   "metadata": {},
   "source": [
    "#### Import Dataset"
   ]
  },
  {
   "cell_type": "code",
   "execution_count": 2,
   "id": "5a783482-5fe2-4fa1-adc1-0de57a051bae",
   "metadata": {},
   "outputs": [],
   "source": [
    "df = pd.read_csv('Airlines.csv')"
   ]
  },
  {
   "cell_type": "markdown",
   "id": "6f29c5df-5142-4885-aa4e-d16609234ad8",
   "metadata": {},
   "source": [
    "#### Melihat Bentuk Dataset"
   ]
  },
  {
   "cell_type": "code",
   "execution_count": 3,
   "id": "2e0abec3-9186-497f-aebb-25be24d29498",
   "metadata": {},
   "outputs": [
    {
     "name": "stdout",
     "output_type": "stream",
     "text": [
      "<class 'pandas.core.frame.DataFrame'>\n",
      "RangeIndex: 539383 entries, 0 to 539382\n",
      "Data columns (total 9 columns):\n",
      " #   Column       Non-Null Count   Dtype \n",
      "---  ------       --------------   ----- \n",
      " 0   id           539383 non-null  int64 \n",
      " 1   Airline      539383 non-null  object\n",
      " 2   Flight       539383 non-null  int64 \n",
      " 3   AirportFrom  539383 non-null  object\n",
      " 4   AirportTo    539383 non-null  object\n",
      " 5   DayOfWeek    539383 non-null  int64 \n",
      " 6   Time         539383 non-null  int64 \n",
      " 7   Length       539383 non-null  int64 \n",
      " 8   Delay        539383 non-null  int64 \n",
      "dtypes: int64(6), object(3)\n",
      "memory usage: 37.0+ MB\n"
     ]
    }
   ],
   "source": [
    "df.info()"
   ]
  },
  {
   "cell_type": "markdown",
   "id": "12825b7e-8c2a-4ad5-a691-66ba3c2ccecc",
   "metadata": {},
   "source": [
    "#### Membagi Dataset Menjadi Training Set dan Testing Set "
   ]
  },
  {
   "cell_type": "code",
   "execution_count": 4,
   "id": "8839dfb0-f5c9-4d3b-b908-2a3efbccffef",
   "metadata": {},
   "outputs": [],
   "source": [
    "x = df.drop('Airline', axis=1)\n",
    "y = df['Airline']\n",
    "\n",
    "x_train, x_test, y_train, y_test = train_test_split(x, y, test_size=0.3)"
   ]
  },
  {
   "cell_type": "markdown",
   "id": "501623f7-b3a8-4466-9d55-adb066a2ccc8",
   "metadata": {},
   "source": [
    "#### Normalisasi Data"
   ]
  },
  {
   "cell_type": "code",
   "execution_count": 7,
   "id": "c1b83fbd-ef41-4058-848c-158a5ea50c9e",
   "metadata": {},
   "outputs": [
    {
     "name": "stdout",
     "output_type": "stream",
     "text": [
      "Kolom Time Sebelum Dinormalisasi: \n",
      "count    539383.000000\n",
      "mean        802.728963\n",
      "std         278.045911\n",
      "min          10.000000\n",
      "25%         565.000000\n",
      "50%         795.000000\n",
      "75%        1035.000000\n",
      "max        1439.000000\n",
      "Name: Time, dtype: float64\n",
      "\n",
      "\n",
      "Kolom Time Sesudah Dinormalisasi: \n",
      "count    539383.000000\n",
      "mean          0.554744\n",
      "std           0.194574\n",
      "min           0.000000\n",
      "25%           0.388383\n",
      "50%           0.549335\n",
      "75%           0.717285\n",
      "max           1.000000\n",
      "Name: Time, dtype: float64\n"
     ]
    }
   ],
   "source": [
    "df2 = df.copy()\n",
    "\n",
    "scaler = MinMaxScaler()\n",
    "scaledData = scaler.fit_transform(df2[['Time']])\n",
    "df2['Time'] = scaledData\n",
    "\n",
    "print(\"Kolom Time Sebelum Dinormalisasi: \")\n",
    "print(df['Time'].describe())\n",
    "print('\\n')\n",
    "print(\"Kolom Time Sesudah Dinormalisasi: \")\n",
    "print(df2['Time'].describe())"
   ]
  },
  {
   "cell_type": "markdown",
   "id": "4329f6d0-6ec5-461c-ae77-967aaa6af755",
   "metadata": {},
   "source": [
    "#### Standarisasi Data"
   ]
  },
  {
   "cell_type": "code",
   "execution_count": 8,
   "id": "80322b08-0959-43f9-b492-6fa28fceb89b",
   "metadata": {},
   "outputs": [
    {
     "name": "stdout",
     "output_type": "stream",
     "text": [
      "kolom Time Sebelum Di Standardisasi: \n",
      "278.04565307225624\n",
      "\n",
      "\n",
      "Kolom Time Setelah Di Standardisasi: \n",
      "1.0\n"
     ]
    }
   ],
   "source": [
    "df3 = df.copy()\n",
    "\n",
    "scaler = StandardScaler()\n",
    "scaledData = scaler.fit_transform(df3[['Time']])\n",
    "df3['Time'] = scaledData\n",
    "\n",
    "print(\"kolom Time Sebelum Di Standardisasi: \")\n",
    "print(np.std(df['Time']))\n",
    "print('\\n')\n",
    "print(\"Kolom Time Setelah Di Standardisasi: \")\n",
    "print(np.std(df3['Time']))"
   ]
  },
  {
   "cell_type": "markdown",
   "id": "4c82160c-6c8a-4e02-b7ee-e2173434d0ff",
   "metadata": {},
   "source": [
    "#### Membuat Nilai Null"
   ]
  },
  {
   "cell_type": "code",
   "execution_count": 12,
   "id": "e15c00d6-1c59-49e5-a70e-212847b30597",
   "metadata": {},
   "outputs": [
    {
     "name": "stdout",
     "output_type": "stream",
     "text": [
      "Jumlah Nilai Null Pada Attribute Flight: 503383\n"
     ]
    }
   ],
   "source": [
    "df4 = df.copy()\n",
    "\n",
    "df4.loc[36000:, 'Flight'] = np.nan \n",
    "\n",
    "print(f\"Jumlah Nilai Null Pada Attribute Flight: {df4['Flight'].isna().sum()}\")"
   ]
  },
  {
   "cell_type": "markdown",
   "id": "6a763675-3f95-43dc-ab73-b1cf1fc21b7d",
   "metadata": {},
   "source": [
    "#### Mengganti Nilai Null"
   ]
  },
  {
   "cell_type": "code",
   "execution_count": 13,
   "id": "52d30daa-5307-47fa-a0c7-23873a2a33e7",
   "metadata": {},
   "outputs": [
    {
     "data": {
      "text/plain": [
       "id             0\n",
       "Airline        0\n",
       "Flight         0\n",
       "AirportFrom    0\n",
       "AirportTo      0\n",
       "DayOfWeek      0\n",
       "Time           0\n",
       "Length         0\n",
       "Delay          0\n",
       "dtype: int64"
      ]
     },
     "execution_count": 13,
     "metadata": {},
     "output_type": "execute_result"
    }
   ],
   "source": [
    "df4['Flight'].fillna(df4['Flight'].median(), inplace=True) \n",
    "\n",
    "df4.isna().sum()"
   ]
  },
  {
   "cell_type": "markdown",
   "id": "d8c47c7d-d03e-452e-a37c-589d2d1a37a3",
   "metadata": {},
   "source": [
    "#### Data Cleaning Pada Data Dengan Nilai Duplikat. "
   ]
  },
  {
   "cell_type": "code",
   "execution_count": 14,
   "id": "e86f5a52-df64-4193-8bec-c6216807ec4e",
   "metadata": {},
   "outputs": [
    {
     "data": {
      "text/plain": [
       "0"
      ]
     },
     "execution_count": 14,
     "metadata": {},
     "output_type": "execute_result"
    }
   ],
   "source": [
    "df4.drop_duplicates(inplace=True)\n",
    "df4.duplicated().sum()"
   ]
  },
  {
   "cell_type": "markdown",
   "id": "89e5f1ca-2363-437d-b2cf-f8b065930bc9",
   "metadata": {},
   "source": [
    "#### Mengganti Tipe Data Salah Satu Attribute Angka"
   ]
  },
  {
   "cell_type": "code",
   "execution_count": 19,
   "id": "0f3addfd-cf6d-40a5-b3c1-36fd6a3f2dd1",
   "metadata": {},
   "outputs": [
    {
     "name": "stdout",
     "output_type": "stream",
     "text": [
      "Tipe Data Attribute 'Length' Yang Sebelumnya Int Telah Diubah Menjadi float64\n"
     ]
    }
   ],
   "source": [
    "df4['Length'] = df4['Length'].astype('float64')\n",
    "print(f\"Tipe Data Attribute 'Length' Yang Sebelumnya Int Telah Diubah Menjadi {df4['Length'].dtypes}\")"
   ]
  },
  {
   "cell_type": "markdown",
   "id": "ce43a063-4565-4f90-9a1d-5ab78412c4aa",
   "metadata": {},
   "source": [
    "#### One Hot Encoding"
   ]
  },
  {
   "cell_type": "code",
   "execution_count": 17,
   "id": "10073492-766c-4a87-ba34-f2b81e3b4342",
   "metadata": {},
   "outputs": [],
   "source": [
    "enc = pd.get_dummies(df[['AirportTo']])\n",
    "df5 = df.join(enc.astype('int64'))\n",
    "\n",
    "df5.drop('AirportTo', axis=1, inplace=True)"
   ]
  },
  {
   "cell_type": "code",
   "execution_count": 18,
   "id": "81fd8a5a-1512-4778-80f3-b57db1a479cf",
   "metadata": {},
   "outputs": [
    {
     "data": {
      "text/html": [
       "<div>\n",
       "<style scoped>\n",
       "    .dataframe tbody tr th:only-of-type {\n",
       "        vertical-align: middle;\n",
       "    }\n",
       "\n",
       "    .dataframe tbody tr th {\n",
       "        vertical-align: top;\n",
       "    }\n",
       "\n",
       "    .dataframe thead th {\n",
       "        text-align: right;\n",
       "    }\n",
       "</style>\n",
       "<table border=\"1\" class=\"dataframe\">\n",
       "  <thead>\n",
       "    <tr style=\"text-align: right;\">\n",
       "      <th></th>\n",
       "      <th>id</th>\n",
       "      <th>Airline</th>\n",
       "      <th>Flight</th>\n",
       "      <th>AirportFrom</th>\n",
       "      <th>DayOfWeek</th>\n",
       "      <th>Time</th>\n",
       "      <th>Length</th>\n",
       "      <th>Delay</th>\n",
       "      <th>AirportTo_ABE</th>\n",
       "      <th>AirportTo_ABI</th>\n",
       "      <th>...</th>\n",
       "      <th>AirportTo_TXK</th>\n",
       "      <th>AirportTo_TYR</th>\n",
       "      <th>AirportTo_TYS</th>\n",
       "      <th>AirportTo_UTM</th>\n",
       "      <th>AirportTo_VLD</th>\n",
       "      <th>AirportTo_VPS</th>\n",
       "      <th>AirportTo_WRG</th>\n",
       "      <th>AirportTo_XNA</th>\n",
       "      <th>AirportTo_YAK</th>\n",
       "      <th>AirportTo_YUM</th>\n",
       "    </tr>\n",
       "  </thead>\n",
       "  <tbody>\n",
       "    <tr>\n",
       "      <th>0</th>\n",
       "      <td>1</td>\n",
       "      <td>CO</td>\n",
       "      <td>269</td>\n",
       "      <td>SFO</td>\n",
       "      <td>3</td>\n",
       "      <td>15</td>\n",
       "      <td>205</td>\n",
       "      <td>1</td>\n",
       "      <td>0</td>\n",
       "      <td>0</td>\n",
       "      <td>...</td>\n",
       "      <td>0</td>\n",
       "      <td>0</td>\n",
       "      <td>0</td>\n",
       "      <td>0</td>\n",
       "      <td>0</td>\n",
       "      <td>0</td>\n",
       "      <td>0</td>\n",
       "      <td>0</td>\n",
       "      <td>0</td>\n",
       "      <td>0</td>\n",
       "    </tr>\n",
       "    <tr>\n",
       "      <th>1</th>\n",
       "      <td>2</td>\n",
       "      <td>US</td>\n",
       "      <td>1558</td>\n",
       "      <td>PHX</td>\n",
       "      <td>3</td>\n",
       "      <td>15</td>\n",
       "      <td>222</td>\n",
       "      <td>1</td>\n",
       "      <td>0</td>\n",
       "      <td>0</td>\n",
       "      <td>...</td>\n",
       "      <td>0</td>\n",
       "      <td>0</td>\n",
       "      <td>0</td>\n",
       "      <td>0</td>\n",
       "      <td>0</td>\n",
       "      <td>0</td>\n",
       "      <td>0</td>\n",
       "      <td>0</td>\n",
       "      <td>0</td>\n",
       "      <td>0</td>\n",
       "    </tr>\n",
       "    <tr>\n",
       "      <th>2</th>\n",
       "      <td>3</td>\n",
       "      <td>AA</td>\n",
       "      <td>2400</td>\n",
       "      <td>LAX</td>\n",
       "      <td>3</td>\n",
       "      <td>20</td>\n",
       "      <td>165</td>\n",
       "      <td>1</td>\n",
       "      <td>0</td>\n",
       "      <td>0</td>\n",
       "      <td>...</td>\n",
       "      <td>0</td>\n",
       "      <td>0</td>\n",
       "      <td>0</td>\n",
       "      <td>0</td>\n",
       "      <td>0</td>\n",
       "      <td>0</td>\n",
       "      <td>0</td>\n",
       "      <td>0</td>\n",
       "      <td>0</td>\n",
       "      <td>0</td>\n",
       "    </tr>\n",
       "    <tr>\n",
       "      <th>3</th>\n",
       "      <td>4</td>\n",
       "      <td>AA</td>\n",
       "      <td>2466</td>\n",
       "      <td>SFO</td>\n",
       "      <td>3</td>\n",
       "      <td>20</td>\n",
       "      <td>195</td>\n",
       "      <td>1</td>\n",
       "      <td>0</td>\n",
       "      <td>0</td>\n",
       "      <td>...</td>\n",
       "      <td>0</td>\n",
       "      <td>0</td>\n",
       "      <td>0</td>\n",
       "      <td>0</td>\n",
       "      <td>0</td>\n",
       "      <td>0</td>\n",
       "      <td>0</td>\n",
       "      <td>0</td>\n",
       "      <td>0</td>\n",
       "      <td>0</td>\n",
       "    </tr>\n",
       "    <tr>\n",
       "      <th>4</th>\n",
       "      <td>5</td>\n",
       "      <td>AS</td>\n",
       "      <td>108</td>\n",
       "      <td>ANC</td>\n",
       "      <td>3</td>\n",
       "      <td>30</td>\n",
       "      <td>202</td>\n",
       "      <td>0</td>\n",
       "      <td>0</td>\n",
       "      <td>0</td>\n",
       "      <td>...</td>\n",
       "      <td>0</td>\n",
       "      <td>0</td>\n",
       "      <td>0</td>\n",
       "      <td>0</td>\n",
       "      <td>0</td>\n",
       "      <td>0</td>\n",
       "      <td>0</td>\n",
       "      <td>0</td>\n",
       "      <td>0</td>\n",
       "      <td>0</td>\n",
       "    </tr>\n",
       "  </tbody>\n",
       "</table>\n",
       "<p>5 rows × 301 columns</p>\n",
       "</div>"
      ],
      "text/plain": [
       "   id Airline  Flight AirportFrom  DayOfWeek  Time  Length  Delay  \\\n",
       "0   1      CO     269         SFO          3    15     205      1   \n",
       "1   2      US    1558         PHX          3    15     222      1   \n",
       "2   3      AA    2400         LAX          3    20     165      1   \n",
       "3   4      AA    2466         SFO          3    20     195      1   \n",
       "4   5      AS     108         ANC          3    30     202      0   \n",
       "\n",
       "   AirportTo_ABE  AirportTo_ABI  ...  AirportTo_TXK  AirportTo_TYR  \\\n",
       "0              0              0  ...              0              0   \n",
       "1              0              0  ...              0              0   \n",
       "2              0              0  ...              0              0   \n",
       "3              0              0  ...              0              0   \n",
       "4              0              0  ...              0              0   \n",
       "\n",
       "   AirportTo_TYS  AirportTo_UTM  AirportTo_VLD  AirportTo_VPS  AirportTo_WRG  \\\n",
       "0              0              0              0              0              0   \n",
       "1              0              0              0              0              0   \n",
       "2              0              0              0              0              0   \n",
       "3              0              0              0              0              0   \n",
       "4              0              0              0              0              0   \n",
       "\n",
       "   AirportTo_XNA  AirportTo_YAK  AirportTo_YUM  \n",
       "0              0              0              0  \n",
       "1              0              0              0  \n",
       "2              0              0              0  \n",
       "3              0              0              0  \n",
       "4              0              0              0  \n",
       "\n",
       "[5 rows x 301 columns]"
      ]
     },
     "execution_count": 18,
     "metadata": {},
     "output_type": "execute_result"
    }
   ],
   "source": [
    "df5.head()"
   ]
  }
 ],
 "metadata": {
  "kernelspec": {
   "display_name": "Python 3 (ipykernel)",
   "language": "python",
   "name": "python3"
  },
  "language_info": {
   "codemirror_mode": {
    "name": "ipython",
    "version": 3
   },
   "file_extension": ".py",
   "mimetype": "text/x-python",
   "name": "python",
   "nbconvert_exporter": "python",
   "pygments_lexer": "ipython3",
   "version": "3.10.7"
  }
 },
 "nbformat": 4,
 "nbformat_minor": 5
}
