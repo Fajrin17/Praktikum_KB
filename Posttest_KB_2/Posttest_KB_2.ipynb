{
 "cells": [
  {
   "cell_type": "markdown",
   "id": "6beae4d2-1e80-4141-8acb-4c75c26dc151",
   "metadata": {},
   "source": [
    "**MUHAMMAD FAJRIN MIRSAD**"
   ]
  },
  {
   "cell_type": "markdown",
   "id": "5f96464e-916d-48d2-9f0d-cddcaae27ad5",
   "metadata": {},
   "source": [
    "Import Pandas dan CSV"
   ]
  },
  {
   "cell_type": "code",
   "execution_count": 14,
   "id": "19a270fa-530c-46c4-91a6-0749e8d2bf96",
   "metadata": {},
   "outputs": [],
   "source": [
    "import pandas as pd\n",
    "df = pd.read_csv(\"Airlines.csv\")"
   ]
  },
  {
   "cell_type": "markdown",
   "id": "c1866dcc-8ab4-46c8-853d-2f3db8cb7020",
   "metadata": {},
   "source": [
    "*Bagian Menampilkan Rata-Rata, Standar Deviasi, Nilai Minimum, Nilai Maksimum, Q1, Q2, Q3, dari attribute bertipe angka*"
   ]
  },
  {
   "cell_type": "code",
   "execution_count": 3,
   "id": "716d724f-e96f-49da-86e9-4e8a72cd0bec",
   "metadata": {},
   "outputs": [
    {
     "data": {
      "text/html": [
       "<div>\n",
       "<style scoped>\n",
       "    .dataframe tbody tr th:only-of-type {\n",
       "        vertical-align: middle;\n",
       "    }\n",
       "\n",
       "    .dataframe tbody tr th {\n",
       "        vertical-align: top;\n",
       "    }\n",
       "\n",
       "    .dataframe thead th {\n",
       "        text-align: right;\n",
       "    }\n",
       "</style>\n",
       "<table border=\"1\" class=\"dataframe\">\n",
       "  <thead>\n",
       "    <tr style=\"text-align: right;\">\n",
       "      <th></th>\n",
       "      <th>id</th>\n",
       "      <th>Flight</th>\n",
       "      <th>DayOfWeek</th>\n",
       "      <th>Time</th>\n",
       "      <th>Length</th>\n",
       "      <th>Delay</th>\n",
       "    </tr>\n",
       "  </thead>\n",
       "  <tbody>\n",
       "    <tr>\n",
       "      <th>count</th>\n",
       "      <td>539383.000000</td>\n",
       "      <td>539383.000000</td>\n",
       "      <td>539383.000000</td>\n",
       "      <td>539383.000000</td>\n",
       "      <td>539383.000000</td>\n",
       "      <td>539383.000000</td>\n",
       "    </tr>\n",
       "    <tr>\n",
       "      <th>mean</th>\n",
       "      <td>269692.000000</td>\n",
       "      <td>2427.928630</td>\n",
       "      <td>3.929668</td>\n",
       "      <td>802.728963</td>\n",
       "      <td>132.202007</td>\n",
       "      <td>0.445442</td>\n",
       "    </tr>\n",
       "    <tr>\n",
       "      <th>std</th>\n",
       "      <td>155706.604461</td>\n",
       "      <td>2067.429837</td>\n",
       "      <td>1.914664</td>\n",
       "      <td>278.045911</td>\n",
       "      <td>70.117016</td>\n",
       "      <td>0.497015</td>\n",
       "    </tr>\n",
       "    <tr>\n",
       "      <th>min</th>\n",
       "      <td>1.000000</td>\n",
       "      <td>1.000000</td>\n",
       "      <td>1.000000</td>\n",
       "      <td>10.000000</td>\n",
       "      <td>0.000000</td>\n",
       "      <td>0.000000</td>\n",
       "    </tr>\n",
       "    <tr>\n",
       "      <th>25%</th>\n",
       "      <td>134846.500000</td>\n",
       "      <td>712.000000</td>\n",
       "      <td>2.000000</td>\n",
       "      <td>565.000000</td>\n",
       "      <td>81.000000</td>\n",
       "      <td>0.000000</td>\n",
       "    </tr>\n",
       "    <tr>\n",
       "      <th>50%</th>\n",
       "      <td>269692.000000</td>\n",
       "      <td>1809.000000</td>\n",
       "      <td>4.000000</td>\n",
       "      <td>795.000000</td>\n",
       "      <td>115.000000</td>\n",
       "      <td>0.000000</td>\n",
       "    </tr>\n",
       "    <tr>\n",
       "      <th>75%</th>\n",
       "      <td>404537.500000</td>\n",
       "      <td>3745.000000</td>\n",
       "      <td>5.000000</td>\n",
       "      <td>1035.000000</td>\n",
       "      <td>162.000000</td>\n",
       "      <td>1.000000</td>\n",
       "    </tr>\n",
       "    <tr>\n",
       "      <th>max</th>\n",
       "      <td>539383.000000</td>\n",
       "      <td>7814.000000</td>\n",
       "      <td>7.000000</td>\n",
       "      <td>1439.000000</td>\n",
       "      <td>655.000000</td>\n",
       "      <td>1.000000</td>\n",
       "    </tr>\n",
       "  </tbody>\n",
       "</table>\n",
       "</div>"
      ],
      "text/plain": [
       "                  id         Flight      DayOfWeek           Time  \\\n",
       "count  539383.000000  539383.000000  539383.000000  539383.000000   \n",
       "mean   269692.000000    2427.928630       3.929668     802.728963   \n",
       "std    155706.604461    2067.429837       1.914664     278.045911   \n",
       "min         1.000000       1.000000       1.000000      10.000000   \n",
       "25%    134846.500000     712.000000       2.000000     565.000000   \n",
       "50%    269692.000000    1809.000000       4.000000     795.000000   \n",
       "75%    404537.500000    3745.000000       5.000000    1035.000000   \n",
       "max    539383.000000    7814.000000       7.000000    1439.000000   \n",
       "\n",
       "              Length          Delay  \n",
       "count  539383.000000  539383.000000  \n",
       "mean      132.202007       0.445442  \n",
       "std        70.117016       0.497015  \n",
       "min         0.000000       0.000000  \n",
       "25%        81.000000       0.000000  \n",
       "50%       115.000000       0.000000  \n",
       "75%       162.000000       1.000000  \n",
       "max       655.000000       1.000000  "
      ]
     },
     "execution_count": 3,
     "metadata": {},
     "output_type": "execute_result"
    }
   ],
   "source": [
    "df.describe()"
   ]
  },
  {
   "cell_type": "markdown",
   "id": "f9194efd-9d9f-46c2-89b7-8dc8e0e99aed",
   "metadata": {},
   "source": [
    "*Menampilkan 10 record pertama dari dataset dengan attribute bertipe angka*"
   ]
  },
  {
   "cell_type": "code",
   "execution_count": 11,
   "id": "4208e144-69a5-4226-a1bb-67144241dd49",
   "metadata": {},
   "outputs": [
    {
     "data": {
      "text/html": [
       "<div>\n",
       "<style scoped>\n",
       "    .dataframe tbody tr th:only-of-type {\n",
       "        vertical-align: middle;\n",
       "    }\n",
       "\n",
       "    .dataframe tbody tr th {\n",
       "        vertical-align: top;\n",
       "    }\n",
       "\n",
       "    .dataframe thead th {\n",
       "        text-align: right;\n",
       "    }\n",
       "</style>\n",
       "<table border=\"1\" class=\"dataframe\">\n",
       "  <thead>\n",
       "    <tr style=\"text-align: right;\">\n",
       "      <th></th>\n",
       "      <th>id</th>\n",
       "      <th>Flight</th>\n",
       "      <th>DayOfWeek</th>\n",
       "      <th>Time</th>\n",
       "      <th>Length</th>\n",
       "      <th>Delay</th>\n",
       "    </tr>\n",
       "  </thead>\n",
       "  <tbody>\n",
       "    <tr>\n",
       "      <th>0</th>\n",
       "      <td>1</td>\n",
       "      <td>269</td>\n",
       "      <td>3</td>\n",
       "      <td>15</td>\n",
       "      <td>205</td>\n",
       "      <td>1</td>\n",
       "    </tr>\n",
       "    <tr>\n",
       "      <th>1</th>\n",
       "      <td>2</td>\n",
       "      <td>1558</td>\n",
       "      <td>3</td>\n",
       "      <td>15</td>\n",
       "      <td>222</td>\n",
       "      <td>1</td>\n",
       "    </tr>\n",
       "    <tr>\n",
       "      <th>2</th>\n",
       "      <td>3</td>\n",
       "      <td>2400</td>\n",
       "      <td>3</td>\n",
       "      <td>20</td>\n",
       "      <td>165</td>\n",
       "      <td>1</td>\n",
       "    </tr>\n",
       "    <tr>\n",
       "      <th>3</th>\n",
       "      <td>4</td>\n",
       "      <td>2466</td>\n",
       "      <td>3</td>\n",
       "      <td>20</td>\n",
       "      <td>195</td>\n",
       "      <td>1</td>\n",
       "    </tr>\n",
       "    <tr>\n",
       "      <th>4</th>\n",
       "      <td>5</td>\n",
       "      <td>108</td>\n",
       "      <td>3</td>\n",
       "      <td>30</td>\n",
       "      <td>202</td>\n",
       "      <td>0</td>\n",
       "    </tr>\n",
       "    <tr>\n",
       "      <th>5</th>\n",
       "      <td>6</td>\n",
       "      <td>1094</td>\n",
       "      <td>3</td>\n",
       "      <td>30</td>\n",
       "      <td>181</td>\n",
       "      <td>1</td>\n",
       "    </tr>\n",
       "    <tr>\n",
       "      <th>6</th>\n",
       "      <td>7</td>\n",
       "      <td>1768</td>\n",
       "      <td>3</td>\n",
       "      <td>30</td>\n",
       "      <td>220</td>\n",
       "      <td>0</td>\n",
       "    </tr>\n",
       "    <tr>\n",
       "      <th>7</th>\n",
       "      <td>8</td>\n",
       "      <td>2722</td>\n",
       "      <td>3</td>\n",
       "      <td>30</td>\n",
       "      <td>228</td>\n",
       "      <td>0</td>\n",
       "    </tr>\n",
       "    <tr>\n",
       "      <th>8</th>\n",
       "      <td>9</td>\n",
       "      <td>2606</td>\n",
       "      <td>3</td>\n",
       "      <td>35</td>\n",
       "      <td>216</td>\n",
       "      <td>1</td>\n",
       "    </tr>\n",
       "    <tr>\n",
       "      <th>9</th>\n",
       "      <td>10</td>\n",
       "      <td>2538</td>\n",
       "      <td>3</td>\n",
       "      <td>40</td>\n",
       "      <td>200</td>\n",
       "      <td>1</td>\n",
       "    </tr>\n",
       "  </tbody>\n",
       "</table>\n",
       "</div>"
      ],
      "text/plain": [
       "   id  Flight  DayOfWeek  Time  Length  Delay\n",
       "0   1     269          3    15     205      1\n",
       "1   2    1558          3    15     222      1\n",
       "2   3    2400          3    20     165      1\n",
       "3   4    2466          3    20     195      1\n",
       "4   5     108          3    30     202      0\n",
       "5   6    1094          3    30     181      1\n",
       "6   7    1768          3    30     220      0\n",
       "7   8    2722          3    30     228      0\n",
       "8   9    2606          3    35     216      1\n",
       "9  10    2538          3    40     200      1"
      ]
     },
     "execution_count": 11,
     "metadata": {},
     "output_type": "execute_result"
    }
   ],
   "source": [
    "df.select_dtypes('number').head(10)"
   ]
  },
  {
   "cell_type": "markdown",
   "id": "465489c2-ac47-49b6-be7c-6bac41e4b1f4",
   "metadata": {},
   "source": [
    "*Menampilkan informasi jumlah record, jumlah attribute, nama attribute, jumlah attribute dengan tipe angka*"
   ]
  },
  {
   "cell_type": "markdown",
   "id": "73efd43d-06b6-4db8-ba51-153bd3c84251",
   "metadata": {},
   "source": [
    "**Jumlah Record**"
   ]
  },
  {
   "cell_type": "code",
   "execution_count": 31,
   "id": "7196b655-f38b-4b78-b08e-b268816bae37",
   "metadata": {},
   "outputs": [
    {
     "data": {
      "text/plain": [
       "539383"
      ]
     },
     "execution_count": 31,
     "metadata": {},
     "output_type": "execute_result"
    }
   ],
   "source": [
    "len(df)"
   ]
  },
  {
   "cell_type": "markdown",
   "id": "f10cded7-56ad-4891-918f-9c9efbc8860b",
   "metadata": {},
   "source": [
    "**Jumlah Atribut**"
   ]
  },
  {
   "cell_type": "code",
   "execution_count": 32,
   "id": "ed2cd7ec-e097-4789-9917-c82630119864",
   "metadata": {},
   "outputs": [
    {
     "data": {
      "text/plain": [
       "9"
      ]
     },
     "execution_count": 32,
     "metadata": {},
     "output_type": "execute_result"
    }
   ],
   "source": [
    "len(df.columns)"
   ]
  },
  {
   "cell_type": "markdown",
   "id": "5a22b3e8-96df-4903-9861-492f926c4713",
   "metadata": {},
   "source": [
    "**Nama Atribut**"
   ]
  },
  {
   "cell_type": "code",
   "execution_count": 33,
   "id": "cc0d970d-25e7-4e0a-b6c7-1c457da5a8bd",
   "metadata": {},
   "outputs": [
    {
     "data": {
      "text/plain": [
       "['id',\n",
       " 'Airline',\n",
       " 'Flight',\n",
       " 'AirportFrom',\n",
       " 'AirportTo',\n",
       " 'DayOfWeek',\n",
       " 'Time',\n",
       " 'Length',\n",
       " 'Delay']"
      ]
     },
     "execution_count": 33,
     "metadata": {},
     "output_type": "execute_result"
    }
   ],
   "source": [
    "list(df.columns)"
   ]
  },
  {
   "cell_type": "markdown",
   "id": "f00051d1-d566-4c3d-8170-ce8a42b3bc85",
   "metadata": {},
   "source": [
    "**Jumlah Atribut Dengan Tipe Data Angka**"
   ]
  },
  {
   "cell_type": "code",
   "execution_count": 34,
   "id": "5419073c-c7f4-4b23-9eca-d7f701cfd964",
   "metadata": {},
   "outputs": [
    {
     "data": {
      "text/plain": [
       "6"
      ]
     },
     "execution_count": 34,
     "metadata": {},
     "output_type": "execute_result"
    }
   ],
   "source": [
    "len(df.select_dtypes(include=['int64', 'float64']).columns)"
   ]
  },
  {
   "attachments": {},
   "cell_type": "markdown",
   "id": "2e223e6c-d06d-4847-a4f2-9c334c9a84b7",
   "metadata": {},
   "source": [
    "*Menampilkan nilai dataset pada baris dimulai dengan 3 digit NIM akhir hingga data terakhir dan kolom ke 4 hingga kolom terakhir menggunakan ke 2 metode slice*"
   ]
  },
  {
   "cell_type": "code",
   "execution_count": 37,
   "id": "f0891f27-0fe2-425c-ac64-a0549f67ee84",
   "metadata": {},
   "outputs": [
    {
     "data": {
      "text/html": [
       "<div>\n",
       "<style scoped>\n",
       "    .dataframe tbody tr th:only-of-type {\n",
       "        vertical-align: middle;\n",
       "    }\n",
       "\n",
       "    .dataframe tbody tr th {\n",
       "        vertical-align: top;\n",
       "    }\n",
       "\n",
       "    .dataframe thead th {\n",
       "        text-align: right;\n",
       "    }\n",
       "</style>\n",
       "<table border=\"1\" class=\"dataframe\">\n",
       "  <thead>\n",
       "    <tr style=\"text-align: right;\">\n",
       "      <th></th>\n",
       "      <th>AirportFrom</th>\n",
       "      <th>AirportTo</th>\n",
       "      <th>DayOfWeek</th>\n",
       "      <th>Time</th>\n",
       "      <th>Length</th>\n",
       "      <th>Delay</th>\n",
       "    </tr>\n",
       "  </thead>\n",
       "  <tbody>\n",
       "    <tr>\n",
       "      <th>8</th>\n",
       "      <td>SFO</td>\n",
       "      <td>MSP</td>\n",
       "      <td>3</td>\n",
       "      <td>35</td>\n",
       "      <td>216</td>\n",
       "      <td>1</td>\n",
       "    </tr>\n",
       "    <tr>\n",
       "      <th>9</th>\n",
       "      <td>LAS</td>\n",
       "      <td>ORD</td>\n",
       "      <td>3</td>\n",
       "      <td>40</td>\n",
       "      <td>200</td>\n",
       "      <td>1</td>\n",
       "    </tr>\n",
       "    <tr>\n",
       "      <th>10</th>\n",
       "      <td>ANC</td>\n",
       "      <td>SEA</td>\n",
       "      <td>3</td>\n",
       "      <td>49</td>\n",
       "      <td>201</td>\n",
       "      <td>1</td>\n",
       "    </tr>\n",
       "    <tr>\n",
       "      <th>11</th>\n",
       "      <td>PHX</td>\n",
       "      <td>ATL</td>\n",
       "      <td>3</td>\n",
       "      <td>50</td>\n",
       "      <td>212</td>\n",
       "      <td>1</td>\n",
       "    </tr>\n",
       "    <tr>\n",
       "      <th>12</th>\n",
       "      <td>SLC</td>\n",
       "      <td>ATL</td>\n",
       "      <td>3</td>\n",
       "      <td>50</td>\n",
       "      <td>210</td>\n",
       "      <td>0</td>\n",
       "    </tr>\n",
       "    <tr>\n",
       "      <th>...</th>\n",
       "      <td>...</td>\n",
       "      <td>...</td>\n",
       "      <td>...</td>\n",
       "      <td>...</td>\n",
       "      <td>...</td>\n",
       "      <td>...</td>\n",
       "    </tr>\n",
       "    <tr>\n",
       "      <th>539378</th>\n",
       "      <td>OGG</td>\n",
       "      <td>SNA</td>\n",
       "      <td>5</td>\n",
       "      <td>1439</td>\n",
       "      <td>326</td>\n",
       "      <td>0</td>\n",
       "    </tr>\n",
       "    <tr>\n",
       "      <th>539379</th>\n",
       "      <td>SEA</td>\n",
       "      <td>ATL</td>\n",
       "      <td>5</td>\n",
       "      <td>1439</td>\n",
       "      <td>305</td>\n",
       "      <td>0</td>\n",
       "    </tr>\n",
       "    <tr>\n",
       "      <th>539380</th>\n",
       "      <td>SFO</td>\n",
       "      <td>MKE</td>\n",
       "      <td>5</td>\n",
       "      <td>1439</td>\n",
       "      <td>255</td>\n",
       "      <td>0</td>\n",
       "    </tr>\n",
       "    <tr>\n",
       "      <th>539381</th>\n",
       "      <td>HNL</td>\n",
       "      <td>SFO</td>\n",
       "      <td>5</td>\n",
       "      <td>1439</td>\n",
       "      <td>313</td>\n",
       "      <td>1</td>\n",
       "    </tr>\n",
       "    <tr>\n",
       "      <th>539382</th>\n",
       "      <td>LAX</td>\n",
       "      <td>PHL</td>\n",
       "      <td>5</td>\n",
       "      <td>1439</td>\n",
       "      <td>301</td>\n",
       "      <td>1</td>\n",
       "    </tr>\n",
       "  </tbody>\n",
       "</table>\n",
       "<p>539375 rows × 6 columns</p>\n",
       "</div>"
      ],
      "text/plain": [
       "       AirportFrom AirportTo  DayOfWeek  Time  Length  Delay\n",
       "8              SFO       MSP          3    35     216      1\n",
       "9              LAS       ORD          3    40     200      1\n",
       "10             ANC       SEA          3    49     201      1\n",
       "11             PHX       ATL          3    50     212      1\n",
       "12             SLC       ATL          3    50     210      0\n",
       "...            ...       ...        ...   ...     ...    ...\n",
       "539378         OGG       SNA          5  1439     326      0\n",
       "539379         SEA       ATL          5  1439     305      0\n",
       "539380         SFO       MKE          5  1439     255      0\n",
       "539381         HNL       SFO          5  1439     313      1\n",
       "539382         LAX       PHL          5  1439     301      1\n",
       "\n",
       "[539375 rows x 6 columns]"
      ]
     },
     "execution_count": 37,
     "metadata": {},
     "output_type": "execute_result"
    }
   ],
   "source": [
    "df.iloc[8:, 3:]"
   ]
  },
  {
   "cell_type": "code",
   "execution_count": 38,
   "id": "4da3fbd4-132f-4ccf-8e35-953e0f4bf332",
   "metadata": {},
   "outputs": [
    {
     "data": {
      "text/html": [
       "<div>\n",
       "<style scoped>\n",
       "    .dataframe tbody tr th:only-of-type {\n",
       "        vertical-align: middle;\n",
       "    }\n",
       "\n",
       "    .dataframe tbody tr th {\n",
       "        vertical-align: top;\n",
       "    }\n",
       "\n",
       "    .dataframe thead th {\n",
       "        text-align: right;\n",
       "    }\n",
       "</style>\n",
       "<table border=\"1\" class=\"dataframe\">\n",
       "  <thead>\n",
       "    <tr style=\"text-align: right;\">\n",
       "      <th></th>\n",
       "      <th>AirportFrom</th>\n",
       "      <th>AirportTo</th>\n",
       "      <th>DayOfWeek</th>\n",
       "      <th>Time</th>\n",
       "      <th>Length</th>\n",
       "      <th>Delay</th>\n",
       "    </tr>\n",
       "  </thead>\n",
       "  <tbody>\n",
       "    <tr>\n",
       "      <th>8</th>\n",
       "      <td>SFO</td>\n",
       "      <td>MSP</td>\n",
       "      <td>3</td>\n",
       "      <td>35</td>\n",
       "      <td>216</td>\n",
       "      <td>1</td>\n",
       "    </tr>\n",
       "    <tr>\n",
       "      <th>9</th>\n",
       "      <td>LAS</td>\n",
       "      <td>ORD</td>\n",
       "      <td>3</td>\n",
       "      <td>40</td>\n",
       "      <td>200</td>\n",
       "      <td>1</td>\n",
       "    </tr>\n",
       "    <tr>\n",
       "      <th>10</th>\n",
       "      <td>ANC</td>\n",
       "      <td>SEA</td>\n",
       "      <td>3</td>\n",
       "      <td>49</td>\n",
       "      <td>201</td>\n",
       "      <td>1</td>\n",
       "    </tr>\n",
       "    <tr>\n",
       "      <th>11</th>\n",
       "      <td>PHX</td>\n",
       "      <td>ATL</td>\n",
       "      <td>3</td>\n",
       "      <td>50</td>\n",
       "      <td>212</td>\n",
       "      <td>1</td>\n",
       "    </tr>\n",
       "    <tr>\n",
       "      <th>12</th>\n",
       "      <td>SLC</td>\n",
       "      <td>ATL</td>\n",
       "      <td>3</td>\n",
       "      <td>50</td>\n",
       "      <td>210</td>\n",
       "      <td>0</td>\n",
       "    </tr>\n",
       "    <tr>\n",
       "      <th>...</th>\n",
       "      <td>...</td>\n",
       "      <td>...</td>\n",
       "      <td>...</td>\n",
       "      <td>...</td>\n",
       "      <td>...</td>\n",
       "      <td>...</td>\n",
       "    </tr>\n",
       "    <tr>\n",
       "      <th>539378</th>\n",
       "      <td>OGG</td>\n",
       "      <td>SNA</td>\n",
       "      <td>5</td>\n",
       "      <td>1439</td>\n",
       "      <td>326</td>\n",
       "      <td>0</td>\n",
       "    </tr>\n",
       "    <tr>\n",
       "      <th>539379</th>\n",
       "      <td>SEA</td>\n",
       "      <td>ATL</td>\n",
       "      <td>5</td>\n",
       "      <td>1439</td>\n",
       "      <td>305</td>\n",
       "      <td>0</td>\n",
       "    </tr>\n",
       "    <tr>\n",
       "      <th>539380</th>\n",
       "      <td>SFO</td>\n",
       "      <td>MKE</td>\n",
       "      <td>5</td>\n",
       "      <td>1439</td>\n",
       "      <td>255</td>\n",
       "      <td>0</td>\n",
       "    </tr>\n",
       "    <tr>\n",
       "      <th>539381</th>\n",
       "      <td>HNL</td>\n",
       "      <td>SFO</td>\n",
       "      <td>5</td>\n",
       "      <td>1439</td>\n",
       "      <td>313</td>\n",
       "      <td>1</td>\n",
       "    </tr>\n",
       "    <tr>\n",
       "      <th>539382</th>\n",
       "      <td>LAX</td>\n",
       "      <td>PHL</td>\n",
       "      <td>5</td>\n",
       "      <td>1439</td>\n",
       "      <td>301</td>\n",
       "      <td>1</td>\n",
       "    </tr>\n",
       "  </tbody>\n",
       "</table>\n",
       "<p>539375 rows × 6 columns</p>\n",
       "</div>"
      ],
      "text/plain": [
       "       AirportFrom AirportTo  DayOfWeek  Time  Length  Delay\n",
       "8              SFO       MSP          3    35     216      1\n",
       "9              LAS       ORD          3    40     200      1\n",
       "10             ANC       SEA          3    49     201      1\n",
       "11             PHX       ATL          3    50     212      1\n",
       "12             SLC       ATL          3    50     210      0\n",
       "...            ...       ...        ...   ...     ...    ...\n",
       "539378         OGG       SNA          5  1439     326      0\n",
       "539379         SEA       ATL          5  1439     305      0\n",
       "539380         SFO       MKE          5  1439     255      0\n",
       "539381         HNL       SFO          5  1439     313      1\n",
       "539382         LAX       PHL          5  1439     301      1\n",
       "\n",
       "[539375 rows x 6 columns]"
      ]
     },
     "execution_count": 38,
     "metadata": {},
     "output_type": "execute_result"
    }
   ],
   "source": [
    "df.loc[8:, 'AirportFrom':]"
   ]
  },
  {
   "cell_type": "markdown",
   "id": "0f6cc4c8-798a-4289-9d22-f57bfc5de3be",
   "metadata": {},
   "source": [
    "*Menampilkan jumlah nilai dari semua attribute yang bernilai object*"
   ]
  },
  {
   "cell_type": "code",
   "execution_count": 10,
   "id": "5caff54a-8135-4c2b-9d61-963d33278eb7",
   "metadata": {},
   "outputs": [
    {
     "data": {
      "text/plain": [
       "Airline  AirportFrom  AirportTo\n",
       "HA       OGG          HNL          762\n",
       "         HNL          OGG          731\n",
       "WN       DAL          HOU          701\n",
       "         HOU          DAL          698\n",
       "OO       SAN          LAX          573\n",
       "                                  ... \n",
       "EV       ORD          PWM            1\n",
       "         ATL          ORD            1\n",
       "OH       DTW          RDU            1\n",
       "EV       DTW          XNA            1\n",
       "OO       MSP          CVG            1\n",
       "Name: count, Length: 6836, dtype: int64"
      ]
     },
     "execution_count": 10,
     "metadata": {},
     "output_type": "execute_result"
    }
   ],
   "source": [
    "df.select_dtypes('object').value_counts()"
   ]
  }
 ],
 "metadata": {
  "kernelspec": {
   "display_name": "Python 3 (ipykernel)",
   "language": "python",
   "name": "python3"
  },
  "language_info": {
   "codemirror_mode": {
    "name": "ipython",
    "version": 3
   },
   "file_extension": ".py",
   "mimetype": "text/x-python",
   "name": "python",
   "nbconvert_exporter": "python",
   "pygments_lexer": "ipython3",
   "version": "3.10.7"
  }
 },
 "nbformat": 4,
 "nbformat_minor": 5
}
